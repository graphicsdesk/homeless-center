{
 "cells": [
  {
   "cell_type": "markdown",
   "metadata": {},
   "source": [
    "# Guiding questions\n",
    "\n",
    "How has the housing crisis progressed in NYC since 1983, as reflected by trends in the number of homeless at shelters every night?"
   ]
  },
  {
   "cell_type": "code",
   "execution_count": 107,
   "metadata": {},
   "outputs": [],
   "source": [
    "from collections import defaultdict\n",
    "import pandas as pd\n",
    "import numpy as np\n",
    "from numpy import ma\n",
    "import matplotlib.pyplot as plt\n",
    "from tika import parser \n",
    "from multiprocessing import Pool\n",
    "from matplotlib.backends.backend_pdf import PdfPages\n",
    "import matplotlib"
   ]
  },
  {
   "cell_type": "code",
   "execution_count": 108,
   "metadata": {
    "scrolled": true
   },
   "outputs": [],
   "source": [
    "matplotlib.rcParams['pdf.fonttype'] = 42\n",
    "matplotlib.rcParams['ps.fonttype'] = 42\n",
    "\n",
    "\n",
    "%matplotlib inline\n",
    "file = '../data/NYC_Homeless_Shelter_Population.pdf'\n",
    "# Parse data from file\n",
    "file_data = parser.from_file(file)\n",
    "# Get files text content\n",
    "text = file_data['content']\n",
    "# print(text) formatting is incorrect\n"
   ]
  },
  {
   "cell_type": "code",
   "execution_count": 109,
   "metadata": {
    "scrolled": false
   },
   "outputs": [
    {
     "data": {
      "text/html": [
       "<div>\n",
       "<style scoped>\n",
       "    .dataframe tbody tr th:only-of-type {\n",
       "        vertical-align: middle;\n",
       "    }\n",
       "\n",
       "    .dataframe tbody tr th {\n",
       "        vertical-align: top;\n",
       "    }\n",
       "\n",
       "    .dataframe thead th {\n",
       "        text-align: right;\n",
       "    }\n",
       "</style>\n",
       "<table border=\"1\" class=\"dataframe\">\n",
       "  <thead>\n",
       "    <tr style=\"text-align: right;\">\n",
       "      <th></th>\n",
       "      <th>Date</th>\n",
       "      <th>Total Population</th>\n",
       "      <th>Total Families</th>\n",
       "      <th>Total Persons in Families</th>\n",
       "      <th>Children</th>\n",
       "      <th>Adults in Families</th>\n",
       "      <th>Single Adults</th>\n",
       "      <th>Single Men</th>\n",
       "      <th>Single Women</th>\n",
       "      <th>Average Length of Shelter Stays for Families (in Days)</th>\n",
       "    </tr>\n",
       "  </thead>\n",
       "  <tbody>\n",
       "    <tr>\n",
       "      <th>0</th>\n",
       "      <td>Jan-83</td>\n",
       "      <td>NaN</td>\n",
       "      <td>NaN</td>\n",
       "      <td>NaN</td>\n",
       "      <td>NaN</td>\n",
       "      <td>NaN</td>\n",
       "      <td>4509</td>\n",
       "      <td>3975</td>\n",
       "      <td>534</td>\n",
       "      <td>NaN</td>\n",
       "    </tr>\n",
       "    <tr>\n",
       "      <th>1</th>\n",
       "      <td>Feb-83</td>\n",
       "      <td>NaN</td>\n",
       "      <td>1520.0</td>\n",
       "      <td>NaN</td>\n",
       "      <td>NaN</td>\n",
       "      <td>NaN</td>\n",
       "      <td>4850</td>\n",
       "      <td>4274</td>\n",
       "      <td>576</td>\n",
       "      <td>NaN</td>\n",
       "    </tr>\n",
       "    <tr>\n",
       "      <th>2</th>\n",
       "      <td>Mar-83</td>\n",
       "      <td>NaN</td>\n",
       "      <td>1655.0</td>\n",
       "      <td>NaN</td>\n",
       "      <td>NaN</td>\n",
       "      <td>NaN</td>\n",
       "      <td>4991</td>\n",
       "      <td>4413</td>\n",
       "      <td>578</td>\n",
       "      <td>NaN</td>\n",
       "    </tr>\n",
       "    <tr>\n",
       "      <th>3</th>\n",
       "      <td>Apr-83</td>\n",
       "      <td>NaN</td>\n",
       "      <td>1761.0</td>\n",
       "      <td>NaN</td>\n",
       "      <td>NaN</td>\n",
       "      <td>NaN</td>\n",
       "      <td>5123</td>\n",
       "      <td>4543</td>\n",
       "      <td>580</td>\n",
       "      <td>NaN</td>\n",
       "    </tr>\n",
       "    <tr>\n",
       "      <th>4</th>\n",
       "      <td>May-83</td>\n",
       "      <td>NaN</td>\n",
       "      <td>1839.0</td>\n",
       "      <td>NaN</td>\n",
       "      <td>NaN</td>\n",
       "      <td>NaN</td>\n",
       "      <td>5080</td>\n",
       "      <td>4489</td>\n",
       "      <td>591</td>\n",
       "      <td>NaN</td>\n",
       "    </tr>\n",
       "  </tbody>\n",
       "</table>\n",
       "</div>"
      ],
      "text/plain": [
       "     Date  Total Population  Total Families  Total Persons in Families  \\\n",
       "0  Jan-83               NaN             NaN                        NaN   \n",
       "1  Feb-83               NaN          1520.0                        NaN   \n",
       "2  Mar-83               NaN          1655.0                        NaN   \n",
       "3  Apr-83               NaN          1761.0                        NaN   \n",
       "4  May-83               NaN          1839.0                        NaN   \n",
       "\n",
       "   Children  Adults in Families  Single Adults  Single Men  Single Women  \\\n",
       "0       NaN                 NaN           4509        3975           534   \n",
       "1       NaN                 NaN           4850        4274           576   \n",
       "2       NaN                 NaN           4991        4413           578   \n",
       "3       NaN                 NaN           5123        4543           580   \n",
       "4       NaN                 NaN           5080        4489           591   \n",
       "\n",
       "   Average Length of Shelter Stays for Families (in Days)  \n",
       "0                                                NaN       \n",
       "1                                                NaN       \n",
       "2                                                NaN       \n",
       "3                                                NaN       \n",
       "4                                                NaN       "
      ]
     },
     "execution_count": 109,
     "metadata": {},
     "output_type": "execute_result"
    }
   ],
   "source": [
    "df = pd.read_csv(\n",
    "    '../data/NYC_Homeless_Shelter_Population.csv', \n",
    "    thousands=',',\n",
    "    header=10, \n",
    "    engine='python', # default pandas engine does not support skipfooter\n",
    "    index_col=False, # don't use first column (year) as dataframe index\n",
    "    names = ['Date', 'Total Population', 'Total Families','Total Persons in Families', 'Children', 'Adults in Families', \n",
    "            'Single Adults', 'Single Men', 'Single Women', 'Average Length of Shelter Stays for Families (in Days)']\n",
    ")\n",
    "\n",
    "#print(df)\n",
    "#printing nan for empty data point (data not available)\n",
    "#want just Total Population\n",
    "df.head()"
   ]
  },
  {
   "cell_type": "code",
   "execution_count": 110,
   "metadata": {},
   "outputs": [],
   "source": [
    "# Format: { year: { field: { sex : count } } }\n",
    "#counts = defaultdict(lambda: defaultdict(dict))\n",
    "\n",
    "date = df['Date']\n",
    "pop = df['Total Population']\n",
    "total_pop = dict(zip(date, pop))\n",
    "#total_pop\n"
   ]
  },
  {
   "cell_type": "code",
   "execution_count": 111,
   "metadata": {},
   "outputs": [
    {
     "data": {
      "image/png": "[encoded data removed]",
      "text/plain": [
       "<Figure size 1440x720 with 1 Axes>"
      ]
     },
     "metadata": {
      "needs_background": "light"
     },
     "output_type": "display_data"
    }
   ],
   "source": [
    "#plt.plot(df['Date'], df['Total Population'])\n",
    "x = date\n",
    "y = pop\n",
    "\n",
    "fig, ax = plt.subplots(figsize=(20,10))\n",
    "fig.suptitle('Number of Homeless People in NYC Municipal Shelters Each Night', \n",
    "            fontsize = 20)\n",
    "\n",
    "plt.xlabel('Shelter Census')\n",
    "plt.ylabel('Total Population')\n",
    "\n",
    "\n",
    "plt.step(x, y)\n",
    "\n",
    "#export to pdf\n",
    "plt.savefig(\"shelters-graphic.pdf\", transparent = True)\n",
    "\n",
    "\n",
    "plt.show()"
   ]
  },
  {
   "cell_type": "markdown",
   "metadata": {},
   "source": [
    "# Findings"
   ]
  },
  {
   "cell_type": "markdown",
   "metadata": {},
   "source": [
    "Population of Homeless in shelters every night has grown tremendenously. Data started Jun-1983 at 12,830 people. Today 63,615+ homeless stay in shelters. This can be seen as a consequence of the housing crisis."
   ]
  }
 ],
 "metadata": {
  "kernelspec": {
   "display_name": "Python 3",
   "language": "python",
   "name": "python3"
  },
  "language_info": {
   "codemirror_mode": {
    "name": "ipython",
    "version": 3
   },
   "file_extension": ".py",
   "mimetype": "text/x-python",
   "name": "python",
   "nbconvert_exporter": "python",
   "pygments_lexer": "ipython3",
   "version": "3.7.1"
  }
 },
 "nbformat": 4,
 "nbformat_minor": 2
}
